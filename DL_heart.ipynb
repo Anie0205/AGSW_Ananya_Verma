{
  "nbformat": 4,
  "nbformat_minor": 0,
  "metadata": {
    "colab": {
      "provenance": [],
      "include_colab_link": true
    },
    "kernelspec": {
      "name": "python3",
      "display_name": "Python 3"
    },
    "language_info": {
      "name": "python"
    }
  },
  "cells": [
    {
      "cell_type": "markdown",
      "metadata": {
        "id": "view-in-github",
        "colab_type": "text"
      },
      "source": [
        "<a href=\"https://colab.research.google.com/github/Anie0205/AGSW_Ananya_Verma/blob/master/DL_heart.ipynb\" target=\"_parent\"><img src=\"https://colab.research.google.com/assets/colab-badge.svg\" alt=\"Open In Colab\"/></a>"
      ]
    },
    {
      "cell_type": "code",
      "execution_count": null,
      "metadata": {
        "id": "Ck2bCi2kJaaF"
      },
      "outputs": [],
      "source": [
        "from google.colab import drive\n",
        "drive.mount('/content/drive')"
      ]
    },
    {
      "cell_type": "markdown",
      "source": [
        "Data Preprocessing"
      ],
      "metadata": {
        "id": "UWuHInIYJtsd"
      }
    },
    {
      "cell_type": "code",
      "source": [
        "import pandas as pd\n",
        "from sklearn.model_selection import train_test_split\n",
        "from sklearn.preprocessing import StandardScaler\n",
        "\n",
        "data = pd.read_csv('/content/drive/MyDrive/AGSW/project1/heart.csv')\n",
        "\n",
        "X = data.drop('target', axis=1)\n",
        "y = data['target']\n",
        "\n",
        "X_train, X_test, y_train, y_test = train_test_split(X, y, test_size=0.2, random_state=42)\n"
      ],
      "metadata": {
        "id": "kBz_byjDJcGj"
      },
      "execution_count": null,
      "outputs": []
    },
    {
      "cell_type": "markdown",
      "source": [
        "Building The DNN"
      ],
      "metadata": {
        "id": "CEGeFv5BJwvF"
      }
    },
    {
      "cell_type": "code",
      "source": [
        "import tensorflow as tf\n",
        "from tensorflow import keras\n",
        "\n",
        "model = keras.Sequential([\n",
        "    keras.layers.Input(shape=(X_train.shape[1],)),  # Input layer\n",
        "\n",
        "    keras.layers.Dense(64, activation='relu'), # Hidden layer\n",
        "    keras.layers.Dense(32, activation='relu'),\n",
        "\n",
        "    keras.layers.Dense(1, activation='sigmoid') #output layer\n",
        "])\n",
        "\n",
        "# Compile the model\n",
        "model.compile(optimizer='adam', loss='binary_crossentropy', metrics=['accuracy'])\n"
      ],
      "metadata": {
        "id": "IbkympDwJzUc"
      },
      "execution_count": null,
      "outputs": []
    },
    {
      "cell_type": "markdown",
      "source": [
        "Train the model"
      ],
      "metadata": {
        "id": "FsPtiLSDKFMF"
      }
    },
    {
      "cell_type": "code",
      "source": [
        "history = model.fit(X_train, y_train, epochs=50, batch_size=32, validation_data=(X_test, y_test))"
      ],
      "metadata": {
        "colab": {
          "base_uri": "https://localhost:8080/"
        },
        "id": "zS27elv7KGpB",
        "outputId": "547f86b6-da5c-466a-8b17-66a37a2b2f59"
      },
      "execution_count": null,
      "outputs": [
        {
          "output_type": "stream",
          "name": "stdout",
          "text": [
            "Epoch 1/50\n",
            "26/26 [==============================] - 1s 11ms/step - loss: 4.1599 - accuracy: 0.5256 - val_loss: 1.5847 - val_accuracy: 0.5512\n",
            "Epoch 2/50\n",
            "26/26 [==============================] - 0s 3ms/step - loss: 1.0636 - accuracy: 0.6146 - val_loss: 0.7819 - val_accuracy: 0.6244\n",
            "Epoch 3/50\n",
            "26/26 [==============================] - 0s 4ms/step - loss: 0.6718 - accuracy: 0.6439 - val_loss: 0.6601 - val_accuracy: 0.6341\n",
            "Epoch 4/50\n",
            "26/26 [==============================] - 0s 3ms/step - loss: 0.5927 - accuracy: 0.6780 - val_loss: 0.6539 - val_accuracy: 0.6829\n",
            "Epoch 5/50\n",
            "26/26 [==============================] - 0s 3ms/step - loss: 0.5867 - accuracy: 0.6854 - val_loss: 0.5748 - val_accuracy: 0.6683\n",
            "Epoch 6/50\n",
            "26/26 [==============================] - 0s 3ms/step - loss: 0.5398 - accuracy: 0.7171 - val_loss: 0.5912 - val_accuracy: 0.6683\n",
            "Epoch 7/50\n",
            "26/26 [==============================] - 0s 3ms/step - loss: 0.5606 - accuracy: 0.6963 - val_loss: 0.6570 - val_accuracy: 0.6195\n",
            "Epoch 8/50\n",
            "26/26 [==============================] - 0s 3ms/step - loss: 0.5712 - accuracy: 0.6927 - val_loss: 0.6501 - val_accuracy: 0.6780\n",
            "Epoch 9/50\n",
            "26/26 [==============================] - 0s 4ms/step - loss: 0.5700 - accuracy: 0.7049 - val_loss: 0.6110 - val_accuracy: 0.6293\n",
            "Epoch 10/50\n",
            "26/26 [==============================] - 0s 3ms/step - loss: 0.5279 - accuracy: 0.7402 - val_loss: 0.6540 - val_accuracy: 0.6829\n",
            "Epoch 11/50\n",
            "26/26 [==============================] - 0s 3ms/step - loss: 0.5146 - accuracy: 0.7390 - val_loss: 0.5029 - val_accuracy: 0.7171\n",
            "Epoch 12/50\n",
            "26/26 [==============================] - 0s 3ms/step - loss: 0.4547 - accuracy: 0.7866 - val_loss: 0.5005 - val_accuracy: 0.7366\n",
            "Epoch 13/50\n",
            "26/26 [==============================] - 0s 3ms/step - loss: 0.4611 - accuracy: 0.7878 - val_loss: 0.6201 - val_accuracy: 0.6390\n",
            "Epoch 14/50\n",
            "26/26 [==============================] - 0s 4ms/step - loss: 0.4659 - accuracy: 0.7805 - val_loss: 0.4804 - val_accuracy: 0.7463\n",
            "Epoch 15/50\n",
            "26/26 [==============================] - 0s 3ms/step - loss: 0.4259 - accuracy: 0.7988 - val_loss: 0.4769 - val_accuracy: 0.7561\n",
            "Epoch 16/50\n",
            "26/26 [==============================] - 0s 4ms/step - loss: 0.4203 - accuracy: 0.8061 - val_loss: 0.4780 - val_accuracy: 0.7610\n",
            "Epoch 17/50\n",
            "26/26 [==============================] - 0s 4ms/step - loss: 0.4323 - accuracy: 0.8073 - val_loss: 0.4753 - val_accuracy: 0.7707\n",
            "Epoch 18/50\n",
            "26/26 [==============================] - 0s 5ms/step - loss: 0.4218 - accuracy: 0.8037 - val_loss: 0.4717 - val_accuracy: 0.7610\n",
            "Epoch 19/50\n",
            "26/26 [==============================] - 0s 5ms/step - loss: 0.4007 - accuracy: 0.8268 - val_loss: 0.4500 - val_accuracy: 0.7659\n",
            "Epoch 20/50\n",
            "26/26 [==============================] - 0s 5ms/step - loss: 0.3907 - accuracy: 0.8500 - val_loss: 0.4787 - val_accuracy: 0.7512\n",
            "Epoch 21/50\n",
            "26/26 [==============================] - 0s 5ms/step - loss: 0.3985 - accuracy: 0.8232 - val_loss: 0.4392 - val_accuracy: 0.7610\n",
            "Epoch 22/50\n",
            "26/26 [==============================] - 0s 5ms/step - loss: 0.3948 - accuracy: 0.8305 - val_loss: 0.4723 - val_accuracy: 0.7512\n",
            "Epoch 23/50\n",
            "26/26 [==============================] - 0s 5ms/step - loss: 0.4032 - accuracy: 0.8317 - val_loss: 0.5751 - val_accuracy: 0.7561\n",
            "Epoch 24/50\n",
            "26/26 [==============================] - 0s 4ms/step - loss: 0.3750 - accuracy: 0.8439 - val_loss: 0.4360 - val_accuracy: 0.7707\n",
            "Epoch 25/50\n",
            "26/26 [==============================] - 0s 5ms/step - loss: 0.4082 - accuracy: 0.8012 - val_loss: 0.4320 - val_accuracy: 0.7902\n",
            "Epoch 26/50\n",
            "26/26 [==============================] - 0s 4ms/step - loss: 0.4288 - accuracy: 0.7927 - val_loss: 0.5008 - val_accuracy: 0.7268\n",
            "Epoch 27/50\n",
            "26/26 [==============================] - 0s 5ms/step - loss: 0.3730 - accuracy: 0.8354 - val_loss: 0.4540 - val_accuracy: 0.7610\n",
            "Epoch 28/50\n",
            "26/26 [==============================] - 0s 4ms/step - loss: 0.3832 - accuracy: 0.8402 - val_loss: 0.4290 - val_accuracy: 0.7707\n",
            "Epoch 29/50\n",
            "26/26 [==============================] - 0s 4ms/step - loss: 0.3630 - accuracy: 0.8561 - val_loss: 0.4738 - val_accuracy: 0.7707\n",
            "Epoch 30/50\n",
            "26/26 [==============================] - 0s 5ms/step - loss: 0.4011 - accuracy: 0.8134 - val_loss: 0.4415 - val_accuracy: 0.7805\n",
            "Epoch 31/50\n",
            "26/26 [==============================] - 0s 4ms/step - loss: 0.3807 - accuracy: 0.8390 - val_loss: 0.4769 - val_accuracy: 0.7707\n",
            "Epoch 32/50\n",
            "26/26 [==============================] - 0s 5ms/step - loss: 0.4052 - accuracy: 0.8085 - val_loss: 0.4617 - val_accuracy: 0.7561\n",
            "Epoch 33/50\n",
            "26/26 [==============================] - 0s 5ms/step - loss: 0.3452 - accuracy: 0.8720 - val_loss: 0.4377 - val_accuracy: 0.7902\n",
            "Epoch 34/50\n",
            "26/26 [==============================] - 0s 4ms/step - loss: 0.3653 - accuracy: 0.8427 - val_loss: 0.4825 - val_accuracy: 0.7415\n",
            "Epoch 35/50\n",
            "26/26 [==============================] - 0s 5ms/step - loss: 0.3600 - accuracy: 0.8537 - val_loss: 0.5314 - val_accuracy: 0.7366\n",
            "Epoch 36/50\n",
            "26/26 [==============================] - 0s 4ms/step - loss: 0.4038 - accuracy: 0.8220 - val_loss: 0.4430 - val_accuracy: 0.7512\n",
            "Epoch 37/50\n",
            "26/26 [==============================] - 0s 5ms/step - loss: 0.3518 - accuracy: 0.8610 - val_loss: 0.4596 - val_accuracy: 0.7805\n",
            "Epoch 38/50\n",
            "26/26 [==============================] - 0s 4ms/step - loss: 0.3651 - accuracy: 0.8524 - val_loss: 0.4597 - val_accuracy: 0.7659\n",
            "Epoch 39/50\n",
            "26/26 [==============================] - 0s 5ms/step - loss: 0.3611 - accuracy: 0.8476 - val_loss: 0.4291 - val_accuracy: 0.7707\n",
            "Epoch 40/50\n",
            "26/26 [==============================] - 0s 5ms/step - loss: 0.3548 - accuracy: 0.8622 - val_loss: 0.4428 - val_accuracy: 0.7902\n",
            "Epoch 41/50\n",
            "26/26 [==============================] - 0s 5ms/step - loss: 0.3571 - accuracy: 0.8512 - val_loss: 0.4498 - val_accuracy: 0.7805\n",
            "Epoch 42/50\n",
            "26/26 [==============================] - 0s 4ms/step - loss: 0.3616 - accuracy: 0.8476 - val_loss: 0.4409 - val_accuracy: 0.7756\n",
            "Epoch 43/50\n",
            "26/26 [==============================] - 0s 4ms/step - loss: 0.3642 - accuracy: 0.8537 - val_loss: 0.4401 - val_accuracy: 0.7610\n",
            "Epoch 44/50\n",
            "26/26 [==============================] - 0s 5ms/step - loss: 0.3443 - accuracy: 0.8573 - val_loss: 0.4427 - val_accuracy: 0.7951\n",
            "Epoch 45/50\n",
            "26/26 [==============================] - 0s 5ms/step - loss: 0.3392 - accuracy: 0.8598 - val_loss: 0.4500 - val_accuracy: 0.7659\n",
            "Epoch 46/50\n",
            "26/26 [==============================] - 0s 5ms/step - loss: 0.3602 - accuracy: 0.8463 - val_loss: 0.4522 - val_accuracy: 0.7951\n",
            "Epoch 47/50\n",
            "26/26 [==============================] - 0s 4ms/step - loss: 0.3682 - accuracy: 0.8451 - val_loss: 0.4670 - val_accuracy: 0.7805\n",
            "Epoch 48/50\n",
            "26/26 [==============================] - 0s 4ms/step - loss: 0.3378 - accuracy: 0.8585 - val_loss: 0.4166 - val_accuracy: 0.8000\n",
            "Epoch 49/50\n",
            "26/26 [==============================] - 0s 5ms/step - loss: 0.3338 - accuracy: 0.8720 - val_loss: 0.5020 - val_accuracy: 0.7561\n",
            "Epoch 50/50\n",
            "26/26 [==============================] - 0s 4ms/step - loss: 0.3545 - accuracy: 0.8293 - val_loss: 0.6685 - val_accuracy: 0.7659\n"
          ]
        }
      ]
    },
    {
      "cell_type": "markdown",
      "source": [
        "Evaluate the model"
      ],
      "metadata": {
        "id": "ITBMYw7VKW-q"
      }
    },
    {
      "cell_type": "code",
      "source": [
        "test_loss, test_accuracy = model.evaluate(X_test, y_test)\n",
        "print(f\"Test Accuracy: {test_accuracy}\")\n"
      ],
      "metadata": {
        "colab": {
          "base_uri": "https://localhost:8080/"
        },
        "id": "MPh1_N7yKCHG",
        "outputId": "22dd0786-01da-4b2c-f9fe-06a2e29f4b15"
      },
      "execution_count": null,
      "outputs": [
        {
          "output_type": "stream",
          "name": "stdout",
          "text": [
            "7/7 [==============================] - 0s 2ms/step - loss: 0.6685 - accuracy: 0.7659\n",
            "Test Accuracy: 0.7658536434173584\n"
          ]
        }
      ]
    }
  ]
}